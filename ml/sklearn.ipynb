{
 "cells": [
  {
   "cell_type": "code",
   "execution_count": 48,
   "metadata": {},
   "outputs": [],
   "source": [
    "import pandas as pd\n",
    "import numpy as np\n",
    "import sys\n",
    "from sklearn.linear_model import LinearRegression\n",
    "from sklearn.linear_model import RidgeCV\n",
    "from sklearn.svm import SVR\n",
    "ATTRIBUTE_SZ = 1128\n",
    "TRAIN_FILE = '../data/train.csv'\n",
    "SPLIT_TRAIN = '../data/split_train.csv'\n",
    "TEST_FILE = '../data/test.csv'\n",
    "SPLIT_TEST = '../data/split_test.csv'\n",
    "ATTR_DIR = '../data/genome_scores.csv'"
   ]
  },
  {
   "cell_type": "code",
   "execution_count": 50,
   "metadata": {},
   "outputs": [
    {
     "name": "stdout",
     "output_type": "stream",
     "text": [
      "Processing movie attribute data...\n",
      "Movie data processed!\n"
     ]
    }
   ],
   "source": [
    "def process_genome_scores():\n",
    "    i = 0\n",
    "    data = {}\n",
    "    print(\"Processing movie attribute data...\")\n",
    "    GENOME_DATA = pd.read_csv(ATTR_DIR)\n",
    "    MOVIE_SZ = GENOME_DATA.shape[0]/ATTRIBUTE_SZ\n",
    "    while(i < MOVIE_SZ):\n",
    "        movie_data = GENOME_DATA.iloc[i*ATTRIBUTE_SZ:(i+1)*ATTRIBUTE_SZ,2]\n",
    "        data[GENOME_DATA.iloc[i*ATTRIBUTE_SZ,0]] = movie_data.values.reshape(ATTRIBUTE_SZ,)\n",
    "        i += 1\n",
    "    del GENOME_DATA\n",
    "    print(\"Movie data processed!\")\n",
    "    return data\n",
    "\n",
    "def group_train_data(train_file):\n",
    "    train_data = pd.read_csv(train_file)\n",
    "    train_data = train_data.groupby([\"userId\"])\n",
    "    grouped_data = {}\n",
    "    for group in train_data.groups:\n",
    "        grouped_data[group] = train_data.get_group(group).values\n",
    "    \n",
    "    del train_data\n",
    "    return grouped_data\n",
    "\n",
    "def get_mean_ratings(train_file):\n",
    "    train_data = pd.read_csv(train_file)\n",
    "    train_data = train_data.values\n",
    "    movie_mean_rating = {}\n",
    "    user_mean_rating = {}\n",
    "    for i in range(train_data.shape[0]):\n",
    "        userid = train_data[i,0]\n",
    "        movieid = train_data[i,1]\n",
    "        rating = train_data[i,2]\n",
    "        if userid not in user_mean_rating:\n",
    "            user_mean_rating[userid] = np.array([rating,1])\n",
    "        else:\n",
    "            user_mean_rating[userid][0] += rating\n",
    "            user_mean_rating[userid][1] += 1\n",
    "        if movieid not in movie_mean_rating:\n",
    "            movie_mean_rating[movieid] = np.array([rating,1])\n",
    "        else:\n",
    "            movie_mean_rating[movieid][0] += rating\n",
    "            movie_mean_rating[movieid][1] += 1\n",
    "    mean_rating = np.mean(train_data[:,2])\n",
    "    \n",
    "    for k in movie_mean_rating:\n",
    "        movie_mean_rating[k][0] = movie_mean_rating[k][0]/movie_mean_rating[k][1]\n",
    "    for k in user_mean_rating:\n",
    "        user_mean_rating[k][0] = user_mean_rating[k][0]/user_mean_rating[k][1]\n",
    "\n",
    "    del train_data\n",
    "    return movie_mean_rating, user_mean_rating, mean_rating\n",
    "\n",
    "genome_scores = process_genome_scores()\n",
    "train_data = group_train_data(SPLIT_TRAIN)\n",
    "movie_mean_rating, user_mean_rating, mean_rating = get_mean_ratings(SPLIT_TRAIN)"
   ]
  },
  {
   "cell_type": "code",
   "execution_count": null,
   "metadata": {},
   "outputs": [
    {
     "name": "stdout",
     "output_type": "stream",
     "text": [
      "Training linear regression models.................."
     ]
    }
   ],
   "source": [
    "def process_train_data(train_data, genome_scores):\n",
    "    N = train_data.shape[0]\n",
    "    d = ATTRIBUTE_SZ\n",
    "    X = np.zeros((N,d))\n",
    "    y = np.zeros((N,))\n",
    "    train_data = train_data[:,1:3]\n",
    "    for i in range(N):\n",
    "        movieid = train_data[i,0]\n",
    "        if movieid in genome_scores:\n",
    "            X[i,:] = genome_scores[movieid]\n",
    "        y[i] = train_data[i,1]\n",
    "    return X, y\n",
    "\n",
    "def train_model(train_data, genome_scores, kernel = 'none', type = 'LR'):\n",
    "    N = train_data.shape[0]\n",
    "    d = ATTRIBUTE_SZ\n",
    "    \n",
    "    X, y = process_train_data(train_data, genome_scores)\n",
    "    if type == 'Ridge':\n",
    "        regr = RidgeCV(alphas = [0.05, 0.5, 1.0])\n",
    "    elif(type == 'LR'):\n",
    "        regr = LinearRegression()\n",
    "    elif(type == 'SVR'):\n",
    "        regr = SVR(gamma = 'scale')\n",
    "    regr.fit(X, y)\n",
    "    return regr\n",
    "\n",
    "def train(train_data, genome_scores):\n",
    "    print(\"Training linear regression models...\", end =\"\")\n",
    "    models = {}\n",
    "    i = 0\n",
    "    for user in train_data:\n",
    "        models[user] = train_model(train_data[user], genome_scores, type = 'SVR')\n",
    "        if i%100 == 0:\n",
    "            print(\"...\", end =\"\")\n",
    "        if i%1000 == 0 and i > 0:\n",
    "            print(\"\\n %d users trained\" % (i))\n",
    "            print(\"Still training\",end=\"\")\n",
    "        i += 1\n",
    "    \n",
    "    return models\n",
    "\n",
    "models = train(train_data, genome_scores)"
   ]
  },
  {
   "cell_type": "code",
   "execution_count": 45,
   "metadata": {},
   "outputs": [],
   "source": [
    "def predict_rating(test_file, models, genome_scores, mean, test = False):\n",
    "    test_data = pd.read_csv(test_file).values\n",
    "    print(\"Evaluating model...\",end=\"\") \n",
    "    movie_mean_rating, user_mean_rating, mean_rating = mean\n",
    "    N = test_data.shape[0]\n",
    "    ids = np.arange(0, N, 1)\n",
    "    pred = np.zeros((N,1))\n",
    "    counter = 0\n",
    "    for i in range(N):\n",
    "        userid = test_data[i,0]; movieid = test_data[i,1]\n",
    "        if userid in models:\n",
    "            # if movie has genome score\n",
    "            if movieid in genome_scores:\n",
    "                phi = genome_scores[movieid]\n",
    "                phi = phi.reshape(1,len(phi))\n",
    "                pred[i,0] = models[userid].predict(phi)\n",
    "            # if genome score not available\n",
    "            else:\n",
    "                if movieid in movie_mean_rating:\n",
    "                    if userid in user_mean_rating:\n",
    "                        pred[i,0] = 0.1*mean_rating + 0.2*movie_mean_rating[movieid][0] + 0.7*user_mean_rating[userid][0]\n",
    "                    else:\n",
    "                        pred[i,0] = 0.6*mean_rating + 0.4*movie_mean_rating[movieid][0]\n",
    "                else:\n",
    "                    if userid in user_mean_rating:\n",
    "                        pred[i,0] = 0.4*mean_rating + 0.6*user_mean_rating[userid][0]\n",
    "                    else:\n",
    "                        pred[i,0] = mean_rating\n",
    "        pred[i,0] = round(float(pred[i,0]),1)\n",
    "        if pred[i,0] > 5.0:\n",
    "            pred[i,0] = 5.0\n",
    "        elif pred[i,0] < 0.5:\n",
    "            pred[i,0] = 0.5    \n",
    "            \n",
    "        if test == True:\n",
    "            t = test_data[i,2]\n",
    "            pred[i,0] = (pred[i,0] - t)**2\n",
    "            \n",
    "        if(counter%500000 == 0):\n",
    "            print(\"...\", end=\"\")\n",
    "        counter += 1\n",
    "    \n",
    "    print(\"\\nDone!\")\n",
    "    del test_data\n",
    "        \n",
    "    if test == True:\n",
    "        return np.sum(pred)/len(pred)\n",
    "    else:\n",
    "        df = pd.DataFrame(idd, columns = ['Id'])\n",
    "        df['Prediction'] = pred\n",
    "        df.to_csv('data/results.csv', index=False)                                                                                                                                                      "
   ]
  },
  {
   "cell_type": "code",
   "execution_count": 38,
   "metadata": {
    "scrolled": true
   },
   "outputs": [
    {
     "name": "stdout",
     "output_type": "stream",
     "text": [
      "Evaluating model...........................\n",
      "Done!\n"
     ]
    }
   ],
   "source": [
    "mean = [movie_mean_rating, user_mean_rating, mean_rating]\n",
    "mse = predict_rating(SPLIT_TRAIN, models, genome_scores, mean, test = True)"
   ]
  },
  {
   "cell_type": "code",
   "execution_count": 40,
   "metadata": {},
   "outputs": [
    {
     "name": "stdout",
     "output_type": "stream",
     "text": [
      "0.026369160672829423\n"
     ]
    }
   ],
   "source": []
  },
  {
   "cell_type": "code",
   "execution_count": null,
   "metadata": {},
   "outputs": [],
   "source": []
  }
 ],
 "metadata": {
  "kernelspec": {
   "display_name": "Python 3",
   "language": "python",
   "name": "python3"
  },
  "language_info": {
   "codemirror_mode": {
    "name": "ipython",
    "version": 3
   },
   "file_extension": ".py",
   "mimetype": "text/x-python",
   "name": "python",
   "nbconvert_exporter": "python",
   "pygments_lexer": "ipython3",
   "version": "3.7.1"
  }
 },
 "nbformat": 4,
 "nbformat_minor": 2
}
